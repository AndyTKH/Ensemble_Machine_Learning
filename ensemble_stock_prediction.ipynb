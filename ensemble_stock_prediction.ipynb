{
 "cells": [
  {
   "cell_type": "markdown",
   "id": "responsible-bulletin",
   "metadata": {},
   "source": [
    "# Stock Prediction using Random Forest and AdaBoost model\n",
    "\n",
    "In this notebook, we're going to train Random Forest model and AdaBoost model to do **daily stock return prediction**. In this project, We will download Apple stock prices data from Yahoo Finance and subsequently use Pandas to create lagged returns data for our training. We will then train our model using previous day of lagged returns data, given today's returns data as our target. \n",
    "\n",
    "**The project outline is as follows:** \n",
    "1. Download asset prices data and create lagged asset returns series\n",
    "2. Train our ensemble models \n",
    "3. Estimate mean squared error for each model"
   ]
  },
  {
   "cell_type": "markdown",
   "id": "great-repair",
   "metadata": {},
   "source": [
    "### Import resources and download data from Yahoo Finance"
   ]
  },
  {
   "cell_type": "code",
   "execution_count": 145,
   "id": "photographic-colonial",
   "metadata": {},
   "outputs": [],
   "source": [
    "import numpy as np\n",
    "import pandas as pd\n",
    "from pandas_datareader import data\n",
    "import datetime\n",
    "import matplotlib.pyplot as plt \n",
    "import sklearn\n",
    "from sklearn.preprocessing import scale\n",
    "from sklearn.ensemble import RandomForestRegressor, AdaBoostRegressor\n",
    "from sklearn.model_selection import train_test_split\n",
    "from sklearn.metrics import mean_squared_error\n",
    "from sklearn.tree import DecisionTreeRegressor"
   ]
  },
  {
   "cell_type": "code",
   "execution_count": 31,
   "id": "dependent-subscription",
   "metadata": {},
   "outputs": [],
   "source": [
    "start = datetime.datetime(2015,1,1)\n",
    "end = datetime.datetime(2020,12,31)"
   ]
  },
  {
   "cell_type": "code",
   "execution_count": 32,
   "id": "controversial-avenue",
   "metadata": {},
   "outputs": [],
   "source": [
    "Apple = data.DataReader(\"AAPL\", 'yahoo', start, end)"
   ]
  },
  {
   "cell_type": "code",
   "execution_count": 33,
   "id": "partial-execution",
   "metadata": {},
   "outputs": [
    {
     "data": {
      "text/html": [
       "<div>\n",
       "<style scoped>\n",
       "    .dataframe tbody tr th:only-of-type {\n",
       "        vertical-align: middle;\n",
       "    }\n",
       "\n",
       "    .dataframe tbody tr th {\n",
       "        vertical-align: top;\n",
       "    }\n",
       "\n",
       "    .dataframe thead th {\n",
       "        text-align: right;\n",
       "    }\n",
       "</style>\n",
       "<table border=\"1\" class=\"dataframe\">\n",
       "  <thead>\n",
       "    <tr style=\"text-align: right;\">\n",
       "      <th></th>\n",
       "      <th>High</th>\n",
       "      <th>Low</th>\n",
       "      <th>Open</th>\n",
       "      <th>Close</th>\n",
       "      <th>Volume</th>\n",
       "      <th>Adj Close</th>\n",
       "    </tr>\n",
       "    <tr>\n",
       "      <th>Date</th>\n",
       "      <th></th>\n",
       "      <th></th>\n",
       "      <th></th>\n",
       "      <th></th>\n",
       "      <th></th>\n",
       "      <th></th>\n",
       "    </tr>\n",
       "  </thead>\n",
       "  <tbody>\n",
       "    <tr>\n",
       "      <th>2014-12-31</th>\n",
       "      <td>28.282499</td>\n",
       "      <td>27.552500</td>\n",
       "      <td>28.205000</td>\n",
       "      <td>27.594999</td>\n",
       "      <td>165613600.0</td>\n",
       "      <td>25.057606</td>\n",
       "    </tr>\n",
       "    <tr>\n",
       "      <th>2015-01-02</th>\n",
       "      <td>27.860001</td>\n",
       "      <td>26.837500</td>\n",
       "      <td>27.847500</td>\n",
       "      <td>27.332500</td>\n",
       "      <td>212818400.0</td>\n",
       "      <td>24.819241</td>\n",
       "    </tr>\n",
       "    <tr>\n",
       "      <th>2015-01-05</th>\n",
       "      <td>27.162500</td>\n",
       "      <td>26.352501</td>\n",
       "      <td>27.072500</td>\n",
       "      <td>26.562500</td>\n",
       "      <td>257142000.0</td>\n",
       "      <td>24.120045</td>\n",
       "    </tr>\n",
       "    <tr>\n",
       "      <th>2015-01-06</th>\n",
       "      <td>26.857500</td>\n",
       "      <td>26.157499</td>\n",
       "      <td>26.635000</td>\n",
       "      <td>26.565001</td>\n",
       "      <td>263188400.0</td>\n",
       "      <td>24.122320</td>\n",
       "    </tr>\n",
       "    <tr>\n",
       "      <th>2015-01-07</th>\n",
       "      <td>27.049999</td>\n",
       "      <td>26.674999</td>\n",
       "      <td>26.799999</td>\n",
       "      <td>26.937500</td>\n",
       "      <td>160423600.0</td>\n",
       "      <td>24.460564</td>\n",
       "    </tr>\n",
       "  </tbody>\n",
       "</table>\n",
       "</div>"
      ],
      "text/plain": [
       "                 High        Low       Open      Close       Volume  Adj Close\n",
       "Date                                                                          \n",
       "2014-12-31  28.282499  27.552500  28.205000  27.594999  165613600.0  25.057606\n",
       "2015-01-02  27.860001  26.837500  27.847500  27.332500  212818400.0  24.819241\n",
       "2015-01-05  27.162500  26.352501  27.072500  26.562500  257142000.0  24.120045\n",
       "2015-01-06  26.857500  26.157499  26.635000  26.565001  263188400.0  24.122320\n",
       "2015-01-07  27.049999  26.674999  26.799999  26.937500  160423600.0  24.460564"
      ]
     },
     "execution_count": 33,
     "metadata": {},
     "output_type": "execute_result"
    }
   ],
   "source": [
    "Apple.head()"
   ]
  },
  {
   "cell_type": "code",
   "execution_count": 34,
   "id": "excellent-skill",
   "metadata": {},
   "outputs": [
    {
     "data": {
      "text/html": [
       "<div>\n",
       "<style scoped>\n",
       "    .dataframe tbody tr th:only-of-type {\n",
       "        vertical-align: middle;\n",
       "    }\n",
       "\n",
       "    .dataframe tbody tr th {\n",
       "        vertical-align: top;\n",
       "    }\n",
       "\n",
       "    .dataframe thead th {\n",
       "        text-align: right;\n",
       "    }\n",
       "</style>\n",
       "<table border=\"1\" class=\"dataframe\">\n",
       "  <thead>\n",
       "    <tr style=\"text-align: right;\">\n",
       "      <th></th>\n",
       "      <th>High</th>\n",
       "      <th>Low</th>\n",
       "      <th>Open</th>\n",
       "      <th>Close</th>\n",
       "      <th>Volume</th>\n",
       "      <th>Adj Close</th>\n",
       "    </tr>\n",
       "    <tr>\n",
       "      <th>Date</th>\n",
       "      <th></th>\n",
       "      <th></th>\n",
       "      <th></th>\n",
       "      <th></th>\n",
       "      <th></th>\n",
       "      <th></th>\n",
       "    </tr>\n",
       "  </thead>\n",
       "  <tbody>\n",
       "    <tr>\n",
       "      <th>2020-12-24</th>\n",
       "      <td>133.460007</td>\n",
       "      <td>131.100006</td>\n",
       "      <td>131.320007</td>\n",
       "      <td>131.970001</td>\n",
       "      <td>54930100.0</td>\n",
       "      <td>131.549637</td>\n",
       "    </tr>\n",
       "    <tr>\n",
       "      <th>2020-12-28</th>\n",
       "      <td>137.339996</td>\n",
       "      <td>133.509995</td>\n",
       "      <td>133.990005</td>\n",
       "      <td>136.690002</td>\n",
       "      <td>124486200.0</td>\n",
       "      <td>136.254608</td>\n",
       "    </tr>\n",
       "    <tr>\n",
       "      <th>2020-12-29</th>\n",
       "      <td>138.789993</td>\n",
       "      <td>134.339996</td>\n",
       "      <td>138.050003</td>\n",
       "      <td>134.869995</td>\n",
       "      <td>121047300.0</td>\n",
       "      <td>134.440399</td>\n",
       "    </tr>\n",
       "    <tr>\n",
       "      <th>2020-12-30</th>\n",
       "      <td>135.990005</td>\n",
       "      <td>133.399994</td>\n",
       "      <td>135.580002</td>\n",
       "      <td>133.720001</td>\n",
       "      <td>96452100.0</td>\n",
       "      <td>133.294067</td>\n",
       "    </tr>\n",
       "    <tr>\n",
       "      <th>2020-12-31</th>\n",
       "      <td>134.740005</td>\n",
       "      <td>131.720001</td>\n",
       "      <td>134.080002</td>\n",
       "      <td>132.690002</td>\n",
       "      <td>99116600.0</td>\n",
       "      <td>132.267349</td>\n",
       "    </tr>\n",
       "  </tbody>\n",
       "</table>\n",
       "</div>"
      ],
      "text/plain": [
       "                  High         Low        Open       Close       Volume  \\\n",
       "Date                                                                      \n",
       "2020-12-24  133.460007  131.100006  131.320007  131.970001   54930100.0   \n",
       "2020-12-28  137.339996  133.509995  133.990005  136.690002  124486200.0   \n",
       "2020-12-29  138.789993  134.339996  138.050003  134.869995  121047300.0   \n",
       "2020-12-30  135.990005  133.399994  135.580002  133.720001   96452100.0   \n",
       "2020-12-31  134.740005  131.720001  134.080002  132.690002   99116600.0   \n",
       "\n",
       "             Adj Close  \n",
       "Date                    \n",
       "2020-12-24  131.549637  \n",
       "2020-12-28  136.254608  \n",
       "2020-12-29  134.440399  \n",
       "2020-12-30  133.294067  \n",
       "2020-12-31  132.267349  "
      ]
     },
     "execution_count": 34,
     "metadata": {},
     "output_type": "execute_result"
    }
   ],
   "source": [
    "Apple.tail()"
   ]
  },
  {
   "cell_type": "code",
   "execution_count": 38,
   "id": "shaped-omega",
   "metadata": {},
   "outputs": [
    {
     "data": {
      "text/html": [
       "<div>\n",
       "<style scoped>\n",
       "    .dataframe tbody tr th:only-of-type {\n",
       "        vertical-align: middle;\n",
       "    }\n",
       "\n",
       "    .dataframe tbody tr th {\n",
       "        vertical-align: top;\n",
       "    }\n",
       "\n",
       "    .dataframe thead th {\n",
       "        text-align: right;\n",
       "    }\n",
       "</style>\n",
       "<table border=\"1\" class=\"dataframe\">\n",
       "  <thead>\n",
       "    <tr style=\"text-align: right;\">\n",
       "      <th></th>\n",
       "      <th>Return</th>\n",
       "    </tr>\n",
       "    <tr>\n",
       "      <th>Date</th>\n",
       "      <th></th>\n",
       "    </tr>\n",
       "  </thead>\n",
       "  <tbody>\n",
       "    <tr>\n",
       "      <th>2015-01-02</th>\n",
       "      <td>-0.951269</td>\n",
       "    </tr>\n",
       "    <tr>\n",
       "      <th>2015-01-05</th>\n",
       "      <td>-2.817153</td>\n",
       "    </tr>\n",
       "    <tr>\n",
       "      <th>2015-01-06</th>\n",
       "      <td>0.009434</td>\n",
       "    </tr>\n",
       "    <tr>\n",
       "      <th>2015-01-07</th>\n",
       "      <td>1.402201</td>\n",
       "    </tr>\n",
       "    <tr>\n",
       "      <th>2015-01-08</th>\n",
       "      <td>3.842244</td>\n",
       "    </tr>\n",
       "    <tr>\n",
       "      <th>...</th>\n",
       "      <td>...</td>\n",
       "    </tr>\n",
       "    <tr>\n",
       "      <th>2020-12-24</th>\n",
       "      <td>0.771222</td>\n",
       "    </tr>\n",
       "    <tr>\n",
       "      <th>2020-12-28</th>\n",
       "      <td>3.576575</td>\n",
       "    </tr>\n",
       "    <tr>\n",
       "      <th>2020-12-29</th>\n",
       "      <td>-1.331484</td>\n",
       "    </tr>\n",
       "    <tr>\n",
       "      <th>2020-12-30</th>\n",
       "      <td>-0.852669</td>\n",
       "    </tr>\n",
       "    <tr>\n",
       "      <th>2020-12-31</th>\n",
       "      <td>-0.770265</td>\n",
       "    </tr>\n",
       "  </tbody>\n",
       "</table>\n",
       "<p>1511 rows × 1 columns</p>\n",
       "</div>"
      ],
      "text/plain": [
       "              Return\n",
       "Date                \n",
       "2015-01-02 -0.951269\n",
       "2015-01-05 -2.817153\n",
       "2015-01-06  0.009434\n",
       "2015-01-07  1.402201\n",
       "2015-01-08  3.842244\n",
       "...              ...\n",
       "2020-12-24  0.771222\n",
       "2020-12-28  3.576575\n",
       "2020-12-29 -1.331484\n",
       "2020-12-30 -0.852669\n",
       "2020-12-31 -0.770265\n",
       "\n",
       "[1511 rows x 1 columns]"
      ]
     },
     "execution_count": 38,
     "metadata": {},
     "output_type": "execute_result"
    }
   ],
   "source": [
    "# create pandas DataFrame that stores the percentage returns of the adjusted closing value\n",
    "AppleRet = pd.DataFrame(index=Apple.index)\n",
    "AppleRet[\"Return\"] = Apple[\"Adj Close\"].pct_change()*100\n",
    "AppleRet.dropna()"
   ]
  },
  {
   "cell_type": "code",
   "execution_count": 39,
   "id": "bottom-psychiatry",
   "metadata": {},
   "outputs": [
    {
     "data": {
      "text/plain": [
       "(array([  1.,   0.,   0.,   0.,   0.,   0.,   0.,   0.,   0.,   0.,   0.,\n",
       "          1.,   1.,   0.,   0.,   0.,   0.,   0.,   0.,   2.,   0.,   0.,\n",
       "          0.,   0.,   1.,   3.,   2.,   1.,   1.,   1.,   3.,   1.,   3.,\n",
       "          6.,   5.,   3.,   2.,   4.,  10.,  13.,  13.,  23.,  19.,  27.,\n",
       "         24.,  36.,  32.,  56.,  72., 107., 128., 139., 105., 102., 114.,\n",
       "         89.,  69.,  64.,  43.,  38.,  24.,  21.,  16.,  18.,   8.,  11.,\n",
       "         11.,   7.,   5.,   3.,   3.,   2.,   3.,   1.,   2.,   1.,   1.,\n",
       "          2.,   0.,   1.,   2.,   0.,   0.,   0.,   0.,   0.,   1.,   0.,\n",
       "          0.,   1.,   0.,   0.,   1.,   1.,   0.,   0.,   0.,   0.,   0.,\n",
       "          1.]),\n",
       " array([-12.86469598, -12.61624086, -12.36778573, -12.11933061,\n",
       "        -11.87087549, -11.62242036, -11.37396524, -11.12551011,\n",
       "        -10.87705499, -10.62859986, -10.38014474, -10.13168961,\n",
       "         -9.88323449,  -9.63477936,  -9.38632424,  -9.13786911,\n",
       "         -8.88941399,  -8.64095887,  -8.39250374,  -8.14404862,\n",
       "         -7.89559349,  -7.64713837,  -7.39868324,  -7.15022812,\n",
       "         -6.90177299,  -6.65331787,  -6.40486274,  -6.15640762,\n",
       "         -5.90795249,  -5.65949737,  -5.41104225,  -5.16258712,\n",
       "         -4.914132  ,  -4.66567687,  -4.41722175,  -4.16876662,\n",
       "         -3.9203115 ,  -3.67185637,  -3.42340125,  -3.17494612,\n",
       "         -2.926491  ,  -2.67803588,  -2.42958075,  -2.18112563,\n",
       "         -1.9326705 ,  -1.68421538,  -1.43576025,  -1.18730513,\n",
       "         -0.93885   ,  -0.69039488,  -0.44193975,  -0.19348463,\n",
       "          0.0549705 ,   0.30342562,   0.55188074,   0.80033587,\n",
       "          1.04879099,   1.29724612,   1.54570124,   1.79415637,\n",
       "          2.04261149,   2.29106662,   2.53952174,   2.78797687,\n",
       "          3.03643199,   3.28488712,   3.53334224,   3.78179736,\n",
       "          4.03025249,   4.27870761,   4.52716274,   4.77561786,\n",
       "          5.02407299,   5.27252811,   5.52098324,   5.76943836,\n",
       "          6.01789349,   6.26634861,   6.51480374,   6.76325886,\n",
       "          7.01171398,   7.26016911,   7.50862423,   7.75707936,\n",
       "          8.00553448,   8.25398961,   8.50244473,   8.75089986,\n",
       "          8.99935498,   9.24781011,   9.49626523,   9.74472035,\n",
       "          9.99317548,  10.2416306 ,  10.49008573,  10.73854085,\n",
       "         10.98699598,  11.2354511 ,  11.48390623,  11.73236135,\n",
       "         11.98081648]),\n",
       " <a list of 100 Patch objects>)"
      ]
     },
     "execution_count": 39,
     "metadata": {},
     "output_type": "execute_result"
    },
    {
     "data": {
      "image/png": "[encoded data removed]",
      "text/plain": [
       "<Figure size 432x288 with 1 Axes>"
      ]
     },
     "metadata": {
      "needs_background": "light"
     },
     "output_type": "display_data"
    }
   ],
   "source": [
    "# check that returns data is normally distributed  \n",
    "fig, ax = plt.subplots()\n",
    "ax.hist(AppleRet[\"Return\"], 100)"
   ]
  },
  {
   "cell_type": "code",
   "execution_count": 48,
   "id": "mechanical-sleeping",
   "metadata": {},
   "outputs": [
    {
     "data": {
      "text/html": [
       "<div>\n",
       "<style scoped>\n",
       "    .dataframe tbody tr th:only-of-type {\n",
       "        vertical-align: middle;\n",
       "    }\n",
       "\n",
       "    .dataframe tbody tr th {\n",
       "        vertical-align: top;\n",
       "    }\n",
       "\n",
       "    .dataframe thead th {\n",
       "        text-align: right;\n",
       "    }\n",
       "</style>\n",
       "<table border=\"1\" class=\"dataframe\">\n",
       "  <thead>\n",
       "    <tr style=\"text-align: right;\">\n",
       "      <th></th>\n",
       "      <th>Return</th>\n",
       "      <th>LagReturn</th>\n",
       "    </tr>\n",
       "    <tr>\n",
       "      <th>Date</th>\n",
       "      <th></th>\n",
       "      <th></th>\n",
       "    </tr>\n",
       "  </thead>\n",
       "  <tbody>\n",
       "    <tr>\n",
       "      <th>2015-01-05</th>\n",
       "      <td>-2.817153</td>\n",
       "      <td>-0.951269</td>\n",
       "    </tr>\n",
       "    <tr>\n",
       "      <th>2015-01-06</th>\n",
       "      <td>0.009434</td>\n",
       "      <td>-2.817153</td>\n",
       "    </tr>\n",
       "    <tr>\n",
       "      <th>2015-01-07</th>\n",
       "      <td>1.402201</td>\n",
       "      <td>0.009434</td>\n",
       "    </tr>\n",
       "    <tr>\n",
       "      <th>2015-01-08</th>\n",
       "      <td>3.842244</td>\n",
       "      <td>1.402201</td>\n",
       "    </tr>\n",
       "    <tr>\n",
       "      <th>2015-01-09</th>\n",
       "      <td>0.107230</td>\n",
       "      <td>3.842244</td>\n",
       "    </tr>\n",
       "    <tr>\n",
       "      <th>...</th>\n",
       "      <td>...</td>\n",
       "      <td>...</td>\n",
       "    </tr>\n",
       "    <tr>\n",
       "      <th>2020-12-24</th>\n",
       "      <td>0.771222</td>\n",
       "      <td>-0.697603</td>\n",
       "    </tr>\n",
       "    <tr>\n",
       "      <th>2020-12-28</th>\n",
       "      <td>3.576575</td>\n",
       "      <td>0.771222</td>\n",
       "    </tr>\n",
       "    <tr>\n",
       "      <th>2020-12-29</th>\n",
       "      <td>-1.331484</td>\n",
       "      <td>3.576575</td>\n",
       "    </tr>\n",
       "    <tr>\n",
       "      <th>2020-12-30</th>\n",
       "      <td>-0.852669</td>\n",
       "      <td>-1.331484</td>\n",
       "    </tr>\n",
       "    <tr>\n",
       "      <th>2020-12-31</th>\n",
       "      <td>-0.770265</td>\n",
       "      <td>-0.852669</td>\n",
       "    </tr>\n",
       "  </tbody>\n",
       "</table>\n",
       "<p>1510 rows × 2 columns</p>\n",
       "</div>"
      ],
      "text/plain": [
       "              Return  LagReturn\n",
       "Date                           \n",
       "2015-01-05 -2.817153  -0.951269\n",
       "2015-01-06  0.009434  -2.817153\n",
       "2015-01-07  1.402201   0.009434\n",
       "2015-01-08  3.842244   1.402201\n",
       "2015-01-09  0.107230   3.842244\n",
       "...              ...        ...\n",
       "2020-12-24  0.771222  -0.697603\n",
       "2020-12-28  3.576575   0.771222\n",
       "2020-12-29 -1.331484   3.576575\n",
       "2020-12-30 -0.852669  -1.331484\n",
       "2020-12-31 -0.770265  -0.852669\n",
       "\n",
       "[1510 rows x 2 columns]"
      ]
     },
     "execution_count": 48,
     "metadata": {},
     "output_type": "execute_result"
    }
   ],
   "source": [
    "# create the shifted returns data lag series using previous day close values \n",
    "AppleRet[\"LagReturn\"] = Apple[\"Adj Close\"].shift(1).pct_change()*100\n",
    "AppleRet=AppleRet.dropna()\n",
    "AppleRet"
   ]
  },
  {
   "cell_type": "code",
   "execution_count": 93,
   "id": "mobile-focus",
   "metadata": {},
   "outputs": [],
   "source": [
    "# scale the data between -1 and +1 \n",
    "x = scale(AppleRet[[\"LagReturn\"]])\n",
    "y = scale(AppleRet[\"Return\"])"
   ]
  },
  {
   "cell_type": "code",
   "execution_count": 94,
   "id": "surface-device",
   "metadata": {},
   "outputs": [
    {
     "name": "stdout",
     "output_type": "stream",
     "text": [
      "Lag return data: [[-0.57845472]\n",
      " [-1.57834084]\n",
      " [-0.06363526]\n",
      " ...\n",
      " [ 1.84791723]\n",
      " [-0.78220398]\n",
      " [-0.52561735]]\n",
      "Current return data: [-1.57845881 -0.06370166  0.68267718 ... -0.78229485 -0.52569948\n",
      " -0.48153965]\n"
     ]
    }
   ],
   "source": [
    "print(\"Lag return data:\",x)\n",
    "print(\"Current return data:\",y)"
   ]
  },
  {
   "cell_type": "code",
   "execution_count": 95,
   "id": "coordinate-transformation",
   "metadata": {},
   "outputs": [],
   "source": [
    "# split the training set and test set, with 70% of data in the training data and the remaining 30% as the testing data\n",
    "x_train, x_test, y_train, y_test = train_test_split(x, y, test_size=0.3)"
   ]
  },
  {
   "cell_type": "code",
   "execution_count": 96,
   "id": "worth-casting",
   "metadata": {},
   "outputs": [
    {
     "name": "stdout",
     "output_type": "stream",
     "text": [
      "checking shape for x_train: (1057, 1) \n",
      " checking shape for y_train: (1057,) \n",
      " checking shape for x_test: (453, 1) \n",
      " checking shape for y_test: (453,)\n"
     ]
    }
   ],
   "source": [
    "print(\"checking shape for x_train:\",x_train.shape, \"\\n checking shape for y_train:\", y_train.shape, \n",
    "      \"\\n checking shape for x_test:\", x_test.shape, \"\\n checking shape for y_test:\", y_test.shape)"
   ]
  },
  {
   "cell_type": "markdown",
   "id": "fleet-price",
   "metadata": {},
   "source": [
    "## Train the ensemble models "
   ]
  },
  {
   "cell_type": "code",
   "execution_count": 124,
   "id": "historic-providence",
   "metadata": {},
   "outputs": [],
   "source": [
    "# specify number of iterations/epochs, and define MSE array for each method \n",
    "epochs = 300\n",
    "estimators = np.zeros(epochs+1)\n",
    "rforest_mse = np.zeros(epochs+1)\n",
    "boosting_mse = np.zeros(epochs+1)"
   ]
  },
  {
   "cell_type": "code",
   "execution_count": 126,
   "id": "virgin-stuff",
   "metadata": {},
   "outputs": [
    {
     "name": "stdout",
     "output_type": "stream",
     "text": [
      "Random Forest model running epoch 30 of 300\n",
      "Random Forest model running epoch 60 of 300\n",
      "Random Forest model running epoch 90 of 300\n",
      "Random Forest model running epoch 120 of 300\n",
      "Random Forest model running epoch 150 of 300\n",
      "Random Forest model running epoch 180 of 300\n",
      "Random Forest model running epoch 210 of 300\n",
      "Random Forest model running epoch 240 of 300\n",
      "Random Forest model running epoch 270 of 300\n",
      "Random Forest model running epoch 300 of 300\n"
     ]
    }
   ],
   "source": [
    "for i in range (1, epochs+1):\n",
    "    if i % 30 == 0:\n",
    "        print(\"Random Forest model running epoch %d of %d\" %(i, epochs))\n",
    "    \n",
    "    # define the Random Forest model\n",
    "    # n_jobs is the parallelisation factor for Random Forest, n_estimators is the number of trees in the foreset    \n",
    "    rforest = RandomForestRegressor(n_estimators=10*i, n_jobs=1)\n",
    "    \n",
    "    # fit training data to the model \n",
    "    rforest.fit(x_train, y_train)\n",
    "    \n",
    "    # calculate the mean squared error on the test data\n",
    "    mse = mean_squared_error(y_test,rforest.predict(x_test))\n",
    "    rforest_mse[i] = mse\n",
    "    estimators[i] = 10*i\n",
    "    "
   ]
  },
  {
   "cell_type": "code",
   "execution_count": 143,
   "id": "local-error",
   "metadata": {},
   "outputs": [
    {
     "name": "stdout",
     "output_type": "stream",
     "text": [
      "AdaBoost model running epoch 30 of 300\n",
      "AdaBoost model running epoch 60 of 300\n",
      "AdaBoost model running epoch 90 of 300\n",
      "AdaBoost model running epoch 120 of 300\n",
      "AdaBoost model running epoch 150 of 300\n",
      "AdaBoost model running epoch 180 of 300\n",
      "AdaBoost model running epoch 210 of 300\n",
      "AdaBoost model running epoch 240 of 300\n",
      "AdaBoost model running epoch 270 of 300\n",
      "AdaBoost model running epoch 300 of 300\n"
     ]
    }
   ],
   "source": [
    "for i in range (1, epochs+1):\n",
    "    if i % 30 == 0:\n",
    "        print(\"AdaBoost model running epoch %d of %d\" %(i, epochs))\n",
    "        \n",
    "    # define the AdaBoost model\n",
    "    # adjust the learning rate for mse optimization\n",
    "    AdaBoost = AdaBoostRegressor(DecisionTreeRegressor(), n_estimators=10*i, learning_rate=0.10)\n",
    "    \n",
    "    # fit training data to the model\n",
    "    AdaBoost.fit(x_train, y_train)\n",
    "    \n",
    "    # calculate the mean squared error on the test data \n",
    "    mse = mean_squared_error(y_test,AdaBoost.predict(x_test))\n",
    "    boosting_mse[i] = mse\n",
    "    estimators[i] = 10*i\n",
    "    "
   ]
  },
  {
   "cell_type": "markdown",
   "id": "desperate-thing",
   "metadata": {},
   "source": [
    "## Mean Squared Error for each method"
   ]
  },
  {
   "cell_type": "code",
   "execution_count": 144,
   "id": "checked-skirt",
   "metadata": {},
   "outputs": [
    {
     "data": {
      "image/png": "[encoded data removed]",
      "text/plain": [
       "<Figure size 576x576 with 1 Axes>"
      ]
     },
     "metadata": {
      "needs_background": "light"
     },
     "output_type": "display_data"
    }
   ],
   "source": [
    "# plot how increasing the number of estimators/trees leads to the decreasing of MSE  \n",
    "plt.figure(figsize=(8,8))\n",
    "plt.plot(estimators[1:], rforest_mse[1:], label='Random Forest')\n",
    "plt.plot(estimators[1:], boosting_mse[1:], label='AdaBoost')\n",
    "plt.title(\"AdaBoost versus Random Forest\")\n",
    "plt.xlabel(\"Estimators\")\n",
    "plt.ylabel(\"Mean Squared Error\")\n",
    "plt.legend(loc='upper right')\n",
    "plt.show()"
   ]
  },
  {
   "cell_type": "markdown",
   "id": "extensive-patrol",
   "metadata": {},
   "source": [
    "**Evaluation & Conclusion:** Based on the MSE plot above, it can be seen that both Random Forests and AdaBoost algorithm have a decreasing MSE as we increase the estimators/trees. However, both models quickly reached to a minimum MSE value and begin fluctuating between 1.60 and 1.65 for AdaBoost, similarly between 1.42 and 1.43 for Random Forests. To improve the performance of the model, we might want to include a wider lagged series in our training such as lags to 2 days, 3 days, and 4 days instead of just previous day lagged series.   "
   ]
  },
  {
   "cell_type": "code",
   "execution_count": null,
   "id": "packed-cross",
   "metadata": {},
   "outputs": [],
   "source": []
  }
 ],
 "metadata": {
  "kernelspec": {
   "display_name": "Python 3",
   "language": "python",
   "name": "python3"
  },
  "language_info": {
   "codemirror_mode": {
    "name": "ipython",
    "version": 3
   },
   "file_extension": ".py",
   "mimetype": "text/x-python",
   "name": "python",
   "nbconvert_exporter": "python",
   "pygments_lexer": "ipython3",
   "version": "3.7.10"
  }
 },
 "nbformat": 4,
 "nbformat_minor": 5
}
